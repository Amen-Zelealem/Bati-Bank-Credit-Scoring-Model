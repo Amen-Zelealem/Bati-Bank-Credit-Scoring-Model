{
 "cells": [
  {
   "cell_type": "markdown",
   "metadata": {},
   "source": [
    "# **Modelling**"
   ]
  },
  {
   "cell_type": "markdown",
   "metadata": {},
   "source": [
    "### **Prepare the Data**\n",
    "+ Combine all datasets to enhance predictive power and insights."
   ]
  },
  {
   "cell_type": "code",
   "execution_count": 1,
   "metadata": {},
   "outputs": [],
   "source": [
    "import logging\n",
    "import pandas as pd\n",
    "import os\n",
    "import sys\n",
    "\n",
    "# Add the 'scripts' directory to the Python path for module imports\n",
    "sys.path.append(os.path.abspath(os.path.join('..', 'scripts')))\n",
    "\n",
    "# Import the load_data module\n",
    "try:\n",
    "    from data_loader import load_data\n",
    "    logger_initialized = True\n",
    "except ImportError as e:\n",
    "    logger_initialized = False\n",
    "    print(f\"Error importing 'load_data': {e}\")\n",
    "\n",
    "# Set pandas display options for better visibility\n",
    "pd.set_option('display.max_columns', 200)\n",
    "pd.set_option('display.max_rows', 200)"
   ]
  },
  {
   "cell_type": "code",
   "execution_count": 2,
   "metadata": {},
   "outputs": [
    {
     "name": "stderr",
     "output_type": "stream",
     "text": [
      "2025-01-27 16:56:20,344 - INFO - Imported necessary libraries.\n",
      "2025-01-27 16:56:20,345 - INFO - 'load_data' module imported successfully.\n"
     ]
    }
   ],
   "source": [
    "# Configure logging\n",
    "def setup_logger(name: str = 'my_logger') -> logging.Logger:\n",
    "    \"\"\"\n",
    "    Set up a logger with INFO level and StreamHandler.\n",
    "    \n",
    "    Parameters:\n",
    "    -----------\n",
    "    name : str\n",
    "        The name of the logger.\n",
    "    \n",
    "    Returns:\n",
    "    --------\n",
    "    logging.Logger\n",
    "        Configured logger instance.\n",
    "    \"\"\"\n",
    "    logger = logging.getLogger(name)\n",
    "    logger.setLevel(logging.INFO)\n",
    "    \n",
    "    # Prevent duplicate handlers\n",
    "    if not logger.hasHandlers():\n",
    "        handler = logging.StreamHandler()\n",
    "        handler.setLevel(logging.INFO)\n",
    "        formatter = logging.Formatter('%(asctime)s - %(levelname)s - %(message)s')\n",
    "        handler.setFormatter(formatter)\n",
    "        logger.addHandler(handler)\n",
    "    \n",
    "    return logger\n",
    "\n",
    "# Initialize logger\n",
    "logger = setup_logger()\n",
    "logger.info(\"Imported necessary libraries.\")\n",
    "\n",
    "# Check and log if 'load_data' was successfully imported\n",
    "if logger_initialized:\n",
    "    logger.info(\"'load_data' module imported successfully.\")\n",
    "else:\n",
    "    logger.warning(\"'load_data' module could not be imported. Check the 'scripts' directory and file availability.\")"
   ]
  },
  {
   "cell_type": "code",
   "execution_count": 3,
   "metadata": {},
   "outputs": [
    {
     "name": "stderr",
     "output_type": "stream",
     "text": [
      "2025-01-27 16:56:20,354 - INFO - 🟢 Starting the data loading process...\n",
      "2025-01-27 16:56:20,623 - INFO - ✅ Data loaded successfully! The dataset contains 95662 rows and 14 columns.\n"
     ]
    },
    {
     "name": "stdout",
     "output_type": "stream",
     "text": [
      "Data successfully loaded from '../data/extracted_features.csv' with 95662 rows and 14 columns.\n"
     ]
    }
   ],
   "source": [
    "logger.info(\"🟢 Starting the data loading process...\")\n",
    "df = load_data('../data/extracted_features.csv')\n",
    "if not df.empty:\n",
    "    logger.info(f\"✅ Data loaded successfully! The dataset contains {df.shape[0]} rows and {df.shape[1]} columns.\")\n",
    "else:\n",
    "    logger.warning(\"⚠️ Data loading completed, but the dataset is empty.\")"
   ]
  },
  {
   "cell_type": "code",
   "execution_count": 4,
   "metadata": {},
   "outputs": [],
   "source": [
    "df_normalized = pd.read_csv('../data/extracted_features.csv')"
   ]
  },
  {
   "cell_type": "code",
   "execution_count": 5,
   "metadata": {},
   "outputs": [
    {
     "data": {
      "text/plain": [
       "Index(['CustomerId', 'ProductCategory', 'ChannelId', 'Amount',\n",
       "       'TransactionStartTime', 'PricingStrategy', 'FraudResult',\n",
       "       'Total_Transaction_Amount', 'Average_Transaction_Amount',\n",
       "       'Transaction_Count', 'Std_Transaction_Amount', 'Transaction_Hour',\n",
       "       'Transaction_Day', 'Transaction_Month', 'Transaction_Year'],\n",
       "      dtype='object')"
      ]
     },
     "execution_count": 5,
     "metadata": {},
     "output_type": "execute_result"
    }
   ],
   "source": [
    "df_normalized.columns"
   ]
  },
  {
   "cell_type": "code",
   "execution_count": 6,
   "metadata": {},
   "outputs": [
    {
     "name": "stdout",
     "output_type": "stream",
     "text": [
      "✅ RFM model initialized successfully with the normalized data.\n"
     ]
    }
   ],
   "source": [
    "from credit_scoring_model import CreditScoreRFM\n",
    "\n",
    "# Initialize RFMS object with normalized DataFrame\n",
    "rfm = CreditScoreRFM(df_normalized.reset_index())"
   ]
  },
  {
   "cell_type": "code",
   "execution_count": 7,
   "metadata": {},
   "outputs": [
    {
     "name": "stdout",
     "output_type": "stream",
     "text": [
      "Calculated RFM metrics for the first five customers:\n",
      "=========================================================\n"
     ]
    },
    {
     "data": {
      "text/html": [
       "<div>\n",
       "<style scoped>\n",
       "    .dataframe tbody tr th:only-of-type {\n",
       "        vertical-align: middle;\n",
       "    }\n",
       "\n",
       "    .dataframe tbody tr th {\n",
       "        vertical-align: top;\n",
       "    }\n",
       "\n",
       "    .dataframe thead th {\n",
       "        text-align: right;\n",
       "    }\n",
       "</style>\n",
       "<table border=\"1\" class=\"dataframe\">\n",
       "  <thead>\n",
       "    <tr style=\"text-align: right;\">\n",
       "      <th></th>\n",
       "      <th>CustomerId</th>\n",
       "      <th>Recency</th>\n",
       "      <th>Frequency</th>\n",
       "      <th>Monetary</th>\n",
       "    </tr>\n",
       "  </thead>\n",
       "  <tbody>\n",
       "    <tr>\n",
       "      <th>0</th>\n",
       "      <td>CustomerId_4406</td>\n",
       "      <td>0</td>\n",
       "      <td>119</td>\n",
       "      <td>109921.75</td>\n",
       "    </tr>\n",
       "    <tr>\n",
       "      <th>2</th>\n",
       "      <td>CustomerId_4683</td>\n",
       "      <td>81</td>\n",
       "      <td>2</td>\n",
       "      <td>1000.00</td>\n",
       "    </tr>\n",
       "    <tr>\n",
       "      <th>3</th>\n",
       "      <td>CustomerId_988</td>\n",
       "      <td>5</td>\n",
       "      <td>38</td>\n",
       "      <td>228727.20</td>\n",
       "    </tr>\n",
       "    <tr>\n",
       "      <th>5</th>\n",
       "      <td>CustomerId_1432</td>\n",
       "      <td>90</td>\n",
       "      <td>1</td>\n",
       "      <td>2000.00</td>\n",
       "    </tr>\n",
       "    <tr>\n",
       "      <th>6</th>\n",
       "      <td>CustomerId_2858</td>\n",
       "      <td>5</td>\n",
       "      <td>29</td>\n",
       "      <td>93400.00</td>\n",
       "    </tr>\n",
       "  </tbody>\n",
       "</table>\n",
       "</div>"
      ],
      "text/plain": [
       "        CustomerId  Recency  Frequency   Monetary\n",
       "0  CustomerId_4406        0        119  109921.75\n",
       "2  CustomerId_4683       81          2    1000.00\n",
       "3   CustomerId_988        5         38  228727.20\n",
       "5  CustomerId_1432       90          1    2000.00\n",
       "6  CustomerId_2858        5         29   93400.00"
      ]
     },
     "execution_count": 7,
     "metadata": {},
     "output_type": "execute_result"
    }
   ],
   "source": [
    "# Calculate Recency, Frequency, and Monetary metrics using the RFM model\n",
    "rfm_df = rfm.calculate_rfm()\n",
    "\n",
    "# Display the first five rows of the RFM DataFrame\n",
    "print(\"Calculated RFM metrics for the first five customers:\")\n",
    "print(\"=========================================================\")\n",
    "rfm_df[['CustomerId', 'Recency', 'Frequency', 'Monetary']].head()"
   ]
  }
 ],
 "metadata": {
  "kernelspec": {
   "display_name": "bativenv",
   "language": "python",
   "name": "python3"
  },
  "language_info": {
   "codemirror_mode": {
    "name": "ipython",
    "version": 3
   },
   "file_extension": ".py",
   "mimetype": "text/x-python",
   "name": "python",
   "nbconvert_exporter": "python",
   "pygments_lexer": "ipython3",
   "version": "3.12.8"
  }
 },
 "nbformat": 4,
 "nbformat_minor": 2
}
