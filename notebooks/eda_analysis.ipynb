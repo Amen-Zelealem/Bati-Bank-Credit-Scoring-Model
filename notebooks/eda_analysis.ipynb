{
 "cells": [
  {
   "cell_type": "markdown",
   "metadata": {},
   "source": [
    "# Exploratory Data Analysis"
   ]
  },
  {
   "cell_type": "code",
   "execution_count": 2,
   "metadata": {},
   "outputs": [],
   "source": [
    "import logging\n",
    "import pandas as pd\n",
    "import os\n",
    "import sys\n",
    "\n",
    "# Add the 'scripts' directory to the Python path for module imports\n",
    "sys.path.append(os.path.abspath(os.path.join('..', 'scripts')))\n",
    "\n",
    "# Import the load_data module\n",
    "try:\n",
    "    from data_loader import load_data\n",
    "    logger_initialized = True\n",
    "except ImportError as e:\n",
    "    logger_initialized = False\n",
    "    print(f\"Error importing 'load_data': {e}\")\n",
    "\n",
    "# Set pandas display options for better visibility\n",
    "pd.set_option('display.max_columns', 200)\n",
    "pd.set_option('display.max_rows', 200)"
   ]
  },
  {
   "cell_type": "code",
   "execution_count": null,
   "metadata": {},
   "outputs": [],
   "source": [
    "# Configure logging\n",
    "def setup_logger(name: str = 'my_logger') -> logging.Logger:\n",
    "    \"\"\"\n",
    "    Set up a logger with INFO level and StreamHandler.\n",
    "    \n",
    "    Parameters:\n",
    "    -----------\n",
    "    name : str\n",
    "        The name of the logger.\n",
    "    \n",
    "    Returns:\n",
    "    --------\n",
    "    logging.Logger\n",
    "        Configured logger instance.\n",
    "    \"\"\"\n",
    "    logger = logging.getLogger(name)\n",
    "    logger.setLevel(logging.INFO)\n",
    "    \n",
    "    # Prevent duplicate handlers\n",
    "    if not logger.hasHandlers():\n",
    "        handler = logging.StreamHandler()\n",
    "        handler.setLevel(logging.INFO)\n",
    "        formatter = logging.Formatter('%(asctime)s - %(levelname)s - %(message)s')\n",
    "        handler.setFormatter(formatter)\n",
    "        logger.addHandler(handler)\n",
    "    \n",
    "    return logger\n",
    "\n",
    "# Initialize logger\n",
    "logger = setup_logger()\n",
    "logger.info(\"Imported necessary libraries.\")\n",
    "\n",
    "# Check and log if 'load_data' was successfully imported\n",
    "if logger_initialized:\n",
    "    logger.info(\"'load_data' module imported successfully.\")\n",
    "else:\n",
    "    logger.warning(\"'load_data' module could not be imported. Check the 'scripts' directory and file availability.\")"
   ]
  }
 ],
 "metadata": {
  "kernelspec": {
   "display_name": "bativenv",
   "language": "python",
   "name": "python3"
  },
  "language_info": {
   "codemirror_mode": {
    "name": "ipython",
    "version": 3
   },
   "file_extension": ".py",
   "mimetype": "text/x-python",
   "name": "python",
   "nbconvert_exporter": "python",
   "pygments_lexer": "ipython3",
   "version": "3.12.8"
  }
 },
 "nbformat": 4,
 "nbformat_minor": 2
}
